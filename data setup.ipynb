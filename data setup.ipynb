{
 "cells": [
  {
   "cell_type": "code",
   "execution_count": 88,
   "metadata": {
    "collapsed": true
   },
   "outputs": [],
   "source": [
    "import numpy as np\n",
    "\n",
    "import matplotlib.pyplot as plt"
   ]
  },
  {
   "cell_type": "code",
   "execution_count": 3,
   "metadata": {
    "collapsed": true
   },
   "outputs": [],
   "source": [
    "%matplotlib inline"
   ]
  },
  {
   "cell_type": "code",
   "execution_count": null,
   "metadata": {
    "collapsed": true
   },
   "outputs": [],
   "source": [
    "!wget http://api.bitcoincharts.com/v1/csv/coincheckJPY.csv.gz\n",
    "!gzip -d ./coincheckJPY.csv.gz\n",
    "!ls -la "
   ]
  },
  {
   "cell_type": "markdown",
   "metadata": {},
   "source": [
    "4Gくらい。"
   ]
  },
  {
   "cell_type": "markdown",
   "metadata": {},
   "source": [
    "import pandas as pd\n",
    "from datetime import datetime\n",
    "\n",
    "df = pd.read_csv(\"./coincheckJPY.csv\",\n",
    "                 header=None,\n",
    "                 parse_dates=True,\n",
    "                 date_parser=lambda x: datetime.fromtimestamp(float(x)),\n",
    "                 index_col='datetime',\n",
    "                 names=['datetime', 'price', 'amount'])\n",
    "#df[\"price\"].plot()"
   ]
  },
  {
   "cell_type": "markdown",
   "metadata": {},
   "source": [
    "めっちゃ時間かかる。"
   ]
  },
  {
   "cell_type": "code",
   "execution_count": 24,
   "metadata": {
    "collapsed": false
   },
   "outputs": [
    {
     "data": {
      "text/plain": [
       "91162378"
      ]
     },
     "execution_count": 24,
     "metadata": {},
     "output_type": "execute_result"
    }
   ],
   "source": [
    "len(df.index.values)"
   ]
  },
  {
   "cell_type": "code",
   "execution_count": 25,
   "metadata": {
    "collapsed": false
   },
   "outputs": [
    {
     "data": {
      "text/plain": [
       "array(['2014-10-31T06:12:09.000000000', '2014-10-31T07:13:24.000000000',\n",
       "       '2014-10-31T07:21:25.000000000', ...,\n",
       "       '2018-02-14T00:02:55.000000000', '2018-02-14T00:02:56.000000000',\n",
       "       '2018-02-14T00:02:56.000000000'], dtype='datetime64[ns]')"
      ]
     },
     "execution_count": 25,
     "metadata": {},
     "output_type": "execute_result"
    }
   ],
   "source": [
    "df.index.values"
   ]
  },
  {
   "cell_type": "code",
   "execution_count": 29,
   "metadata": {
    "collapsed": false
   },
   "outputs": [],
   "source": [
    "df.to_pickle('df_coincheckJPY.pickle')"
   ]
  },
  {
   "cell_type": "code",
   "execution_count": 30,
   "metadata": {
    "collapsed": false
   },
   "outputs": [
    {
     "name": "stdout",
     "output_type": "stream",
     "text": [
      "total 6270796\r\n",
      "drwxr-xr-x  3 root root       4096 Feb 14 10:43 .\r\n",
      "drwx------ 33 root root       4096 Feb 14 10:30 ..\r\n",
      "drwxr-xr-x  2 root root       4096 Feb 14 10:14 .ipynb_checkpoints\r\n",
      "-rw-r--r--  1 root root       6582 Feb 14 10:36 Untitled.ipynb\r\n",
      "-rw-r--r--  1 root root 4233357380 Feb 14 00:20 coincheckJPY.csv\r\n",
      "-rw-r--r--  1 root root 2187897891 Feb 14 10:44 df_coincheckJPY.pickle\r\n",
      "-rw-rw-r--  1 root root       4822 Feb  7 13:28 import_test.ipynb\r\n"
     ]
    }
   ],
   "source": [
    "!ls -la "
   ]
  },
  {
   "cell_type": "markdown",
   "metadata": {},
   "source": [
    "バイナリで保存したら約半分のサイズに。"
   ]
  },
  {
   "cell_type": "code",
   "execution_count": 31,
   "metadata": {
    "collapsed": true
   },
   "outputs": [],
   "source": [
    "del(df)"
   ]
  },
  {
   "cell_type": "code",
   "execution_count": 37,
   "metadata": {
    "collapsed": true
   },
   "outputs": [],
   "source": [
    "import pickle\n",
    "\n",
    "with open('./df_coincheckJPY.pickle', 'rb') as f:\n",
    "    df = pickle.load(f)"
   ]
  },
  {
   "cell_type": "markdown",
   "metadata": {},
   "source": [
    "csv読み込みより圧倒的に早い。"
   ]
  },
  {
   "cell_type": "markdown",
   "metadata": {},
   "source": [
    "試しに可視化してみる。"
   ]
  },
  {
   "cell_type": "code",
   "execution_count": 257,
   "metadata": {
    "collapsed": true
   },
   "outputs": [],
   "source": [
    "L = df.index.size // 2\n",
    "O = df.index.size - L\n",
    "D = L\n",
    "assert O >= L "
   ]
  },
  {
   "cell_type": "code",
   "execution_count": 258,
   "metadata": {
    "collapsed": false
   },
   "outputs": [],
   "source": [
    "x = df.ix[O-L:O, 'price'].values\n",
    "dates = df.index.values[O-L:O]"
   ]
  },
  {
   "cell_type": "code",
   "execution_count": 259,
   "metadata": {
    "collapsed": true
   },
   "outputs": [],
   "source": [
    "x_ = df.ix[O:O+D, 'price'].values\n",
    "dates_ = df.index.values[O:O+D]"
   ]
  },
  {
   "cell_type": "code",
   "execution_count": 260,
   "metadata": {
    "collapsed": false
   },
   "outputs": [
    {
     "data": {
      "text/plain": [
       "<matplotlib.text.Text at 0x7fae8eb7a978>"
      ]
     },
     "execution_count": 260,
     "metadata": {},
     "output_type": "execute_result"
    },
    {
     "data": {
      "image/png": "[encoded data removed]",
      "text/plain": [
       "<matplotlib.figure.Figure at 0x7fae8a0e0b70>"
      ]
     },
     "metadata": {},
     "output_type": "display_data"
    }
   ],
   "source": [
    "i_dates = dates.astype('uint64')\n",
    "date_start = i_dates[0]\n",
    "i_dates -= date_start\n",
    "plt.plot(i_dates/(1e9*60*60*24), x)\n",
    "i_dates_ = dates_.astype('uint64')\n",
    "i_dates_ -= date_start\n",
    "plt.plot(i_dates_/(1e9*60*60*24), x_)\n",
    "plt.xlabel('day')"
   ]
  },
  {
   "cell_type": "code",
   "execution_count": 212,
   "metadata": {
    "collapsed": false
   },
   "outputs": [
    {
     "data": {
      "text/plain": [
       "numpy.datetime64('2017-03-31T06:07:12.000000000')"
      ]
     },
     "execution_count": 212,
     "metadata": {},
     "output_type": "execute_result"
    }
   ],
   "source": [
    "dates[0].astype(np.datetime64)"
   ]
  },
  {
   "cell_type": "code",
   "execution_count": 246,
   "metadata": {
    "collapsed": false
   },
   "outputs": [
    {
     "data": {
      "text/plain": [
       "numpy.datetime64('2018-01-24T16:00:12.000000000')"
      ]
     },
     "execution_count": 246,
     "metadata": {},
     "output_type": "execute_result"
    }
   ],
   "source": [
    "dates_[-1].astype(np.datetime64)"
   ]
  },
  {
   "cell_type": "code",
   "execution_count": 247,
   "metadata": {
    "collapsed": false
   },
   "outputs": [
    {
     "data": {
      "text/plain": [
       "numpy.datetime64('2018-02-14T00:02:56.000000000')"
      ]
     },
     "execution_count": 247,
     "metadata": {},
     "output_type": "execute_result"
    }
   ],
   "source": [
    "df.index.values[-1]"
   ]
  }
 ],
 "metadata": {
  "kernelspec": {
   "display_name": "Python [Root]",
   "language": "python",
   "name": "Python [Root]"
  },
  "language_info": {
   "codemirror_mode": {
    "name": "ipython",
    "version": 3
   },
   "file_extension": ".py",
   "mimetype": "text/x-python",
   "name": "python",
   "nbconvert_exporter": "python",
   "pygments_lexer": "ipython3",
   "version": "3.5.2"
  }
 },
 "nbformat": 4,
 "nbformat_minor": 0
}
